{
 "cells": [
  {
   "cell_type": "code",
   "execution_count": 30,
   "metadata": {},
   "outputs": [],
   "source": [
    "#Import Libraries\n",
    "import pandas as pd\n",
    "import os"
   ]
  },
  {
   "cell_type": "code",
   "execution_count": 31,
   "metadata": {},
   "outputs": [],
   "source": [
    "#Define IEX Cloud token\n",
    "#Current is Sandbox \n",
    "#Can be switched for real public token\n",
    "token = 'Tpk_170ff477f7c148849ac1611015e393e7' "
   ]
  },
  {
   "cell_type": "code",
   "execution_count": 32,
   "metadata": {},
   "outputs": [],
   "source": [
    "#Set tickers\n",
    "#Below are the 30 tickers in the Dow Jones Industrial Average\n",
    "#Insert other tickers if you wish\n",
    "tickers = ['MMM',\n",
    "'AXP',\n",
    "'AAPL',\n",
    "'BA',\n",
    "'CAT',\n",
    "'CVX',\n",
    "'CSCO',\n",
    "'KO',\n",
    "'DOW',\n",
    "'XOM',\n",
    "'GS',\n",
    "'HD',\n",
    "'IBM',\n",
    "'INTC',\n",
    "'JNJ',\n",
    "'JPM',\n",
    "'MCD',\n",
    "'MRK',\n",
    "'MSFT',\n",
    "'NKE',\n",
    "'PFE',\n",
    "'PG',\n",
    "'RTX',\n",
    "'TRV',\n",
    "'UNH',\n",
    "'VZ',\n",
    "'V',\n",
    "'WMT',\n",
    "'WBA',\n",
    "'DIS']"
   ]
  },
  {
   "cell_type": "code",
   "execution_count": 33,
   "metadata": {},
   "outputs": [
    {
     "name": "stdout",
     "output_type": "stream",
     "text": [
      "Would you like annual or quarterly data. Please type either \"annual\" or \"quarter\"\n",
      "\n",
      "annual\n"
     ]
    }
   ],
   "source": [
    "#Choose fundamental statement\n",
    "\n",
    "a_or_q = input('Would you like annual or quarterly data. Please type either \"annual\" or \"quarter\"\\n\\n')\n",
    "if a_or_q == 'annual':\n",
    "    time_periods = 5\n",
    "elif a_or_q == 'quarter':\n",
    "    time_periods = 12 "
   ]
  },
  {
   "cell_type": "code",
   "execution_count": null,
   "metadata": {},
   "outputs": [],
   "source": [
    "#Choose amount and type of historic fundamentals to download\n",
    "\n",
    "statement_input = input('Which financial statement would you like to download. Please type either \"income\", \"balance sheet\", or \"cash flow\" \\n\\n')\n",
    "if statement_input == 'income':\n",
    "    statement_type = 'income'\n",
    "if statement_input == 'balance sheet':\n",
    "    statement_type = 'balance-sheet'\n",
    "if statement_input == 'cash flow':\n",
    "    statement_type = 'cash-flow'\n",
    "\n"
   ]
  },
  {
   "cell_type": "code",
   "execution_count": null,
   "metadata": {
    "scrolled": false
   },
   "outputs": [],
   "source": [
    "#Iterate through the tickers and convert IEX Cloud JSON into dataframe with raw data in one column\n",
    "#and a ticker + number dataframe name, stored in a dictionary.\n",
    "#This step is completed as IEX has some missing filings for a limited number of companies\n",
    "\n",
    "df_dict = {} #Create a dictionary to hold dataframes created in the loop\n",
    "for t in tickers:\n",
    "        #Construct JSON URL\n",
    "        data_url =  'https://sandbox.iexapis.com/stable/stock/' + str(t) + '/'+ statement_type + '?last=' + str(time_periods) + '&period='+a_or_q +'&token='+ token\n",
    "        df = pd.read_json(data_url) # Convert to dataframe\n",
    "        for data, index in df.iterrows():\n",
    "            df_name = str(index[0]) + '_' + str(index.name) # Name by looping through rows\n",
    "            df_dict[df_name] = pd.DataFrame.from_dict([index[1]]) # Add to dictionary\n",
    "            df_dict[df_name]['ticker'] = t  #Add a row for ticker\n",
    "        print (data_url)\n",
    "            "
   ]
  },
  {
   "cell_type": "code",
   "execution_count": null,
   "metadata": {},
   "outputs": [],
   "source": [
    "#Convert dictionary into dataframe of raw data\n",
    "df_raw = pd.Series(df_dict).to_frame()"
   ]
  },
  {
   "cell_type": "code",
   "execution_count": null,
   "metadata": {
    "scrolled": false
   },
   "outputs": [],
   "source": [
    "df_list = list() #Create a list to hold next iterartion of dataframes\n",
    "\n",
    "for data, index in df_raw.iterrows(): #Iterrate by number of rows in previously costructed dataframe\n",
    "    df_data = pd.DataFrame(df_raw.loc[data][0]) #Create Dataframe from raw data\n",
    "    df_list.append(df_data) #Append dataframe to list\n",
    "\n",
    "    \n",
    "final_df = pd.concat(df_list) #Combine dataframes held in list\n",
    "final_df.reset_index(drop=True, inplace = True) # Drop index\n",
    "#Reorder Columns to place ticker at the front\n",
    "if statement_input == 'income':\n",
    "    column_order = [\n",
    " 'ticker',\n",
    " 'reportDate',\n",
    " 'fiscalDate',\n",
    " 'totalRevenue',\n",
    " 'costOfRevenue',\n",
    " 'grossProfit',\n",
    " 'researchAndDevelopment',\n",
    " 'sellingGeneralAndAdmin',\n",
    " 'operatingExpense',\n",
    " 'operatingIncome',\n",
    " 'otherIncomeExpenseNet',\n",
    " 'ebit',\n",
    " 'interestIncome',\n",
    " 'pretaxIncome',\n",
    " 'incomeTax',\n",
    " 'minorityInterest',\n",
    " 'netIncome',\n",
    " 'netIncomeBasic']\n",
    "if statement_input == 'balance sheet':\n",
    "     column_order =  [\n",
    " 'ticker',\n",
    " 'reportDate',\n",
    " 'fiscalDate', \n",
    " 'currentCash',\n",
    " 'shortTermInvestments', \n",
    " 'receivables',\n",
    " 'inventory',\n",
    " 'otherCurrentAssets',\n",
    " 'currentAssets',\n",
    " 'longTermInvestments',\n",
    " 'propertyPlantEquipment',\n",
    " 'goodwill',\n",
    " 'intangibleAssets',\n",
    " 'otherAssets',\n",
    " 'totalAssets',\n",
    " 'accountsPayable',\n",
    " 'currentLongTermDebt',\n",
    " 'otherCurrentLiabilities',\n",
    " 'totalCurrentLiabilities', \n",
    " 'longTermDebt',\n",
    " 'otherLiabilities',\n",
    " 'minorityInterest',\n",
    " 'totalLiabilities',\n",
    " 'commonStock',\n",
    " 'retainedEarnings',\n",
    " 'treasuryStock',\n",
    " 'capitalSurplus',\n",
    " 'shareholderEquity',\n",
    " 'netTangibleAssets']\n",
    "if statement_input == 'cash flow':\n",
    "    column_order = [\n",
    " 'ticker',\n",
    " 'reportDate',\n",
    " 'fiscalDate', \n",
    " 'netIncome',\n",
    " 'depreciation',\n",
    " 'changesInReceivables',\n",
    " 'changesInInventories',\n",
    " 'cashChange',\n",
    " 'cashFlow',\n",
    " 'capitalExpenditures',\n",
    " 'investments',\n",
    " 'investingActivityOther',\n",
    " 'totalInvestingCashFlows',\n",
    " 'dividendsPaid',\n",
    " 'netBorrowings',\n",
    " 'otherFinancingCashFlows',\n",
    " 'cashFlowFinancing',\n",
    " 'exchangeRateEffect']\n",
    "    \n",
    "final_df = final_df[column_order]\n"
   ]
  },
  {
   "cell_type": "code",
   "execution_count": null,
   "metadata": {
    "scrolled": false
   },
   "outputs": [],
   "source": [
    "#os.chdir('') #Set working directory\n",
    "final_df.to_csv(str(statement_input) +'_Statement_Dow30_' + str(time_periods) + 'Annual.csv') #Export to working directory\n",
    "final_df.head()\n",
    "final_df.head()"
   ]
  },
  {
   "cell_type": "code",
   "execution_count": null,
   "metadata": {},
   "outputs": [],
   "source": []
  },
  {
   "cell_type": "code",
   "execution_count": null,
   "metadata": {},
   "outputs": [],
   "source": []
  }
 ],
 "metadata": {
  "kernelspec": {
   "display_name": "Python 3",
   "language": "python",
   "name": "python3"
  },
  "language_info": {
   "codemirror_mode": {
    "name": "ipython",
    "version": 3
   },
   "file_extension": ".py",
   "mimetype": "text/x-python",
   "name": "python",
   "nbconvert_exporter": "python",
   "pygments_lexer": "ipython3",
   "version": "3.7.6"
  }
 },
 "nbformat": 4,
 "nbformat_minor": 4
}
